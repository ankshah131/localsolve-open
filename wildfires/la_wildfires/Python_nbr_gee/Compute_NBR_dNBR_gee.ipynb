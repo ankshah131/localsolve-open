{
 "cells": [
  {
   "cell_type": "raw",
   "metadata": {
    "vscode": {
     "languageId": "raw"
    }
   },
   "source": [
    "---\n",
    "title: \"Calculating NBR and dNBR using Sentinel-2 Data with Google Earth Engine\"\n",
    "author: \"Aurélien Callens\"\n",
    "theme: litera\n",
    "format:\n",
    "html:\n",
    "    page-layout: full\n",
    "    toc: true\n",
    "    toc-location: left\n",
    "    code-fold: show\n",
    "    code-tools: true\n",
    "    embed-resources: true\n",
    "    highlight-style: github\n",
    "---"
   ]
  },
  {
   "cell_type": "markdown",
   "metadata": {},
   "source": [
    "This notebook demonstrates how to process Sentinel-2 satellite imagery to calculate the Normalized Burn Ratio (NBR) and the delta Normalized Burn Ratio (dNBR) using the Google Earth Engine (GEE) Python API. \n",
    "\n",
    "- The **Normalized Burn Ratio (NBR)** is a remote sensing index used to identify areas affected by fire. It is computed using the near-infrared (NIR) and shortwave-infrared (SWIR) bands, which are sensitive to vegetation and burned areas.\n",
    "\n",
    "- The **delta Normalized Burn Ratio (dNBR)** is the difference between pre-fire and post-fire NBR values, providing an effective metric for assessing burn severity.\n",
    "\n",
    "\n",
    "## Workflow\n",
    "1. Define the region of interest using a GeoJSON polygon.\n",
    "2. Filter Sentinel-2 imagery by date and cloud cover.\n",
    "3. Compute the NBR and dNBR indices.\n",
    "4. Visualize the results with `geemap`\n",
    "\n",
    "## Prerequisites\n",
    "\n",
    "To run this notebook, you will need to have a Google Earth Engine account ([Sign up here](https://earthengine.google.com/)).\n",
    "\n",
    "You will also need to ensure you have the necessary tools and libraries installed in a clean virtual environment. Follow the steps below to create and set up a virtual environment:  \n",
    "\n",
    "### Install the dependencies\n",
    "\n",
    "#### Using `venv` (Python Standard Library) \n",
    "1. **Create a virtual environment**:  \n",
    "Ensure the desired Python version (e.g., Python 3.12) is installed on your system. Then run:\n",
    "\n",
    "```bash  \n",
    "   python3 -m venv nbr-env \n",
    "```\n",
    "This creates a directory named nbr-env that contains the virtual environment.\n",
    "\n",
    "1. **Activate the virtual environment**\n",
    "\n",
    "- On macOS/Linux:\n",
    "```bash\n",
    "\n",
    "source nbr-env/bin/activate\n",
    "```\n",
    "- On Windows (Command Prompt):\n",
    "```bash\n",
    "nbr-env\\Scripts\\activate\n",
    "```\n",
    "\n",
    "3. **Install dependencies from requirements.txt**\n",
    "```bash\n",
    "pip install -r requirements.txt\n",
    "```\n",
    "\n",
    "####  Using conda (Anaconda/Miniconda)\n",
    "1. Create a new Conda environment:\n",
    "\n",
    "```bash\n",
    "conda create --name nbr-env python=3.12\n",
    "```\n",
    "2. Activate the environment:\n",
    "\n",
    "```bash\n",
    "conda activate nbr-env\n",
    "```\n",
    "\n",
    "3. Use the following command to install dependencies:\n",
    "\n",
    "```bash\n",
    "pip install -r requirements.txt\n",
    "```\n"
   ]
  },
  {
   "cell_type": "markdown",
   "metadata": {
    "vscode": {
     "languageId": "bat"
    }
   },
   "source": [
    "Now you are all set up, let's start ! "
   ]
  },
  {
   "cell_type": "markdown",
   "metadata": {
    "vscode": {
     "languageId": "raw"
    }
   },
   "source": [
    "## Imports "
   ]
  },
  {
   "cell_type": "code",
   "execution_count": 1,
   "metadata": {},
   "outputs": [],
   "source": [
    "import ee\n",
    "import json\n",
    "import geemap"
   ]
  },
  {
   "cell_type": "code",
   "execution_count": null,
   "metadata": {},
   "outputs": [],
   "source": [
    "# Authenticate\n",
    "ee.Authenticate()\n",
    "# Initialize the Earth Engine API\n",
    "ee.Initialize()"
   ]
  },
  {
   "cell_type": "markdown",
   "metadata": {},
   "source": [
    "## Define the Region of Interest"
   ]
  },
  {
   "cell_type": "code",
   "execution_count": null,
   "metadata": {},
   "outputs": [],
   "source": [
    "# Load GeoJSON and and convert to Earth Engine geometry\n",
    "def geojson_to_ee(file_path):\n",
    "    with open(file_path, \"r\") as f:\n",
    "        geojson_data = json.load(f)\n",
    "    roi = ee.Geometry.Polygon(geojson_data[\"features\"][0][\"geometry\"][\"coordinates\"])\n",
    "    return roi\n",
    "\n",
    "\n",
    "# Change the Geojson to your own need:\n",
    "geojson_path = \"./Los_Angeles.geojson\"\n",
    "roi = geojson_to_ee(geojson_path)\n",
    "print(\"ROI set successfully:\", roi.getInfo())"
   ]
  },
  {
   "cell_type": "markdown",
   "metadata": {},
   "source": [
    "## Data processing\n",
    "\n",
    "As of now the NBR and dNBR is computed using only Sentinel-2 imagery. Implementation with Landsat 8 will follow. "
   ]
  },
  {
   "cell_type": "code",
   "execution_count": null,
   "metadata": {},
   "outputs": [],
   "source": [
    "# Sentinel-2 Surface Reflectance and Cloud Probability datasets\n",
    "S2_SR_COLLECTION = \"COPERNICUS/S2_SR_HARMONIZED\"\n",
    "S2_CLOUD_PROB_COLLECTION = \"COPERNICUS/S2_CLOUD_PROBABILITY\"\n",
    "\n",
    "def mask_s2_clouds(image, max_cloud_probability=60):\n",
    "    \"\"\"Masks clouds in a Sentinel-2 image using the COPERNICUS/S2_CLOUD_PROBABILITY dataset.\n",
    "\n",
    "    Args:\n",
    "        image (ee.Image): A Sentinel-2 image.\n",
    "        max_cloud_probability (int, optional): Maximum cloud probability threshold. Defaults to 60.\n",
    "\n",
    "    Returns:\n",
    "        ee.Image: A cloud-masked Sentinel-2 image.\n",
    "    \"\"\"\n",
    "    # Get cloud probability image matching the Sentinel-2 image\n",
    "    cloud_prob = (\n",
    "        ee.ImageCollection(S2_CLOUD_PROB_COLLECTION)\n",
    "        .filterBounds(image.geometry())\n",
    "        .filterDate(image.date(), image.date().advance(1, \"day\"))  # Match date\n",
    "        .first()\n",
    "    )\n",
    "    \n",
    "    # Ensure cloud probability image exists\n",
    "    cloud_prob = ee.Image(cloud_prob)\n",
    "    \n",
    "    # If no cloud probability image is found, return the original image\n",
    "    return ee.Algorithms.If(\n",
    "        cloud_prob, \n",
    "        image.updateMask(cloud_prob.select(\"probability\").lt(max_cloud_probability)), \n",
    "        image\n",
    "    )\n",
    "\n",
    "def mask_water_SCL(image):\n",
    "    \"\"\"Masks water in a Sentinel-2 image using  the SCL band.\n",
    "\n",
    "    Args:\n",
    "        image (ee.Image): Sentinel-2 image.\n",
    "\n",
    "    Returns:\n",
    "        ee.Image: Water-masked image.\n",
    "    \"\"\"\n",
    "    scl = image.select(\"SCL\")  # Scene Classification Layer\n",
    "    water_mask = scl.neq(6)  # Water is class 6\n",
    "    return image.updateMask(water_mask)\n",
    "\n",
    "# Define a function to calculate NBR\n",
    "def calculate_nbr(image):\n",
    "    \"\"\"Computes the Normalized Burn Ratio (NBR) for a Sentinel-2 image.\"\"\"\n",
    "    nbr = image.normalizedDifference([\"B8\", \"B12\"]).rename(\"NBR\")\n",
    "    return image.addBands(nbr)\n",
    "\n",
    "\n",
    "# Retrieve Sentinel-2 images for a specific time range and region\n",
    "def get_sentinel2_nbr(roi, start_date, end_date):\n",
    "    sentinel2 = (\n",
    "        ee.ImageCollection(S2_SR_COLLECTION)\n",
    "        .filterBounds(roi)\n",
    "        .filterDate(start_date, end_date)\n",
    "        .map(mask_s2_clouds)  # Apply cloud masking\n",
    "        .map(mask_water_SCL)  # Apply water masking\n",
    "        .map(calculate_nbr)  # Compute NBR\n",
    "    )\n",
    "\n",
    "    # Check if the collection has valid images\n",
    "    count = sentinel2.size().getInfo()\n",
    "    if count == 0:\n",
    "        raise ValueError(\n",
    "            f\"No images found for the date range {start_date} to {end_date}\"\n",
    "        )\n",
    "\n",
    "    return sentinel2.mean()"
   ]
  },
  {
   "cell_type": "code",
   "execution_count": null,
   "metadata": {},
   "outputs": [],
   "source": [
    "# Define the pre-event and post-event dates\n",
    "pre_fire_start_date = \"2024-12-01\"\n",
    "pre_fire_end_date = \"2025-01-01\"\n",
    "post_fire_start_date = \"2025-01-10\"\n",
    "post_fire_end_date = \"2025-01-20\"\n",
    "\n",
    "pre_event_image = get_sentinel2_nbr(roi, pre_fire_start_date, pre_fire_end_date)\n",
    "print(pre_event_image.getInfo())\n",
    "\n",
    "post_event_image = get_sentinel2_nbr(roi, post_fire_start_date, post_fire_end_date)\n",
    "print(post_event_image.getInfo())"
   ]
  },
  {
   "cell_type": "code",
   "execution_count": null,
   "metadata": {},
   "outputs": [],
   "source": [
    "# Calculate dNBR for the given dates and ROI\n",
    "\n",
    "# Compute dNBR\n",
    "dnbr = (\n",
    "    pre_event_image.select(\"NBR\")\n",
    "    .subtract(post_event_image.select(\"NBR\"))\n",
    "    .multiply(1000)\n",
    "    .rename(\"dNBR\")\n",
    ")"
   ]
  },
  {
   "cell_type": "code",
   "execution_count": null,
   "metadata": {},
   "outputs": [],
   "source": [
    "# Print the dNBR image details\n",
    "print(dnbr.getInfo())"
   ]
  },
  {
   "cell_type": "markdown",
   "metadata": {},
   "source": [
    "## Mapping the results"
   ]
  },
  {
   "cell_type": "code",
   "execution_count": null,
   "metadata": {},
   "outputs": [],
   "source": [
    "Map = geemap.Map()\n",
    "Map.centerObject(roi, 10)\n",
    "\n",
    "boundary_style = {\n",
    "    \"color\": \"ffffff\",  # White color\n",
    "    \"strokeWidth\": 5,  # Stroke width of 5\n",
    "}\n",
    "Map.addLayer(roi, boundary_style, \"Study Area\")\n",
    "\n",
    "# Define visualization parameters for NBR (display range, color palette)\n",
    "nbr_vis = {\"min\": -1, \"max\": 1, \"palette\": [\"blue\", \"white\", \"green\"]}\n",
    "\n",
    "# Add pre-event and post-event NBR images to the map\n",
    "Map.addLayer(pre_event_image.select(\"NBR\"), nbr_vis, \"Pre-Fire NBR\")\n",
    "Map.addLayer(post_event_image.select(\"NBR\"), nbr_vis, \"Post-Fire NBR\")\n",
    "\n",
    "sld_intervals = \"\"\"\n",
    "<RasterSymbolizer>\n",
    "  <ColorMap type=\"intervals\" extended=\"false\">\n",
    "    <ColorMapEntry color=\"#ffffff\" quantity=\"-500\" label=\"-500\"/>\n",
    "    <ColorMapEntry color=\"#7a8737\" quantity=\"-250\" label=\"-250\"/>\n",
    "    <ColorMapEntry color=\"#acbe4d\" quantity=\"-100\" label=\"-100\"/>\n",
    "    <ColorMapEntry color=\"#0ae042\" quantity=\"100\" label=\"100\"/>\n",
    "    <ColorMapEntry color=\"#fff70b\" quantity=\"270\" label=\"270\"/>\n",
    "    <ColorMapEntry color=\"#ffaf38\" quantity=\"440\" label=\"440\"/>\n",
    "    <ColorMapEntry color=\"#ff641b\" quantity=\"660\" label=\"660\"/>\n",
    "    <ColorMapEntry color=\"#a41fd6\" quantity=\"2000\" label=\"2000\"/>\n",
    "  </ColorMap>\n",
    "</RasterSymbolizer>\n",
    "\"\"\"\n",
    "\n",
    "# Apply the SLD style for visualization\n",
    "Map.addLayer(dnbr.sldStyle(sld_intervals), {}, \"dNBR Classified (SLD)\")\n",
    "\n",
    "# Define the correct classification thresholds\n",
    "thresholds = ee.Image([-500, -250, -100, 100, 270, 440, 660, 2000])\n",
    "\n",
    "# Apply classification using thresholding\n",
    "classified = dnbr.lt(thresholds).reduce(\"sum\").toInt()\n",
    "\n",
    "\n",
    "legend_dict = {\n",
    "    \"Enhanced Regrowth, High\": \"#7a8737\",\n",
    "    \"Enhanced Regrowth, Low\": \"#acbe4d\",\n",
    "    \"Unburned\": \"#0ae042\",\n",
    "    \"Low Severity\": \"#fff70b\",\n",
    "    \"Moderate-low Severity\": \"#ffaf38\",\n",
    "    \"Moderate-high Severity\": \"#ff641b\",\n",
    "    \"High Severity\": \"#a41fd6\",\n",
    "    \"NA\": \"#ffffff\",\n",
    "}\n",
    "\n",
    "# Add the legend to the map\n",
    "Map.add_legend(\n",
    "    title=\"dNBR Classes\",\n",
    "    keys=list(legend_dict.keys()),\n",
    "    colors=list(legend_dict.values()),\n",
    ")\n",
    "# Show the map\n",
    "Map"
   ]
  },
  {
   "cell_type": "code",
   "execution_count": null,
   "metadata": {},
   "outputs": [],
   "source": [
    "# Define the export parameters\n",
    "export_params_drive_greyscale = {\n",
    "    \"image\": dnbr,\n",
    "    \"description\": dnbr.id().getInfo(),\n",
    "    \"fileNamePrefix\": \"dNBR_Greyscale\",\n",
    "    \"scale\": 10,\n",
    "    \"region\": roi,\n",
    "    \"maxPixels\": 1e13,\n",
    "}\n",
    "\n",
    "export_params_drive_classified = {\n",
    "    \"image\": classified,\n",
    "    \"description\": dnbr.id().getInfo(),\n",
    "    \"fileNamePrefix\": \"dNBR_Classified\",\n",
    "    \"scale\": 10,\n",
    "    \"region\": roi,\n",
    "    \"maxPixels\": 1e13,\n",
    "}\n",
    "\n",
    "# Start the export tasks\n",
    "task_drive_greyscale = ee.batch.Export.image.toDrive(**export_params_drive_greyscale)\n",
    "task_drive_classified = ee.batch.Export.image.toDrive(**export_params_drive_classified)\n",
    "\n",
    "\n",
    "# Start the tasks\n",
    "task_drive_greyscale.start()\n",
    "task_drive_classified.start()"
   ]
  }
 ],
 "metadata": {
  "kernelspec": {
   "display_name": "nbr-env",
   "language": "python",
   "name": "python3"
  },
  "language_info": {
   "codemirror_mode": {
    "name": "ipython",
    "version": 3
   },
   "file_extension": ".py",
   "mimetype": "text/x-python",
   "name": "python",
   "nbconvert_exporter": "python",
   "pygments_lexer": "ipython3",
   "version": "3.12.8"
  }
 },
 "nbformat": 4,
 "nbformat_minor": 2
}
