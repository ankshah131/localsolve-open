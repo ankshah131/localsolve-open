{
 "cells": [
  {
   "cell_type": "raw",
   "metadata": {
    "vscode": {
     "languageId": "raw"
    }
   },
   "source": [
    "---\n",
    "title: \"Calculating NBR and dNBR using Sentinel-2 Data with Google Earth Engine\"\n",
    "author: \"Aurélien Callens\"\n",
    "theme: litera\n",
    "format:\n",
    "html:\n",
    "    page-layout: full\n",
    "    toc: true\n",
    "    toc-location: left\n",
    "    code-fold: show\n",
    "    code-tools: true\n",
    "    embed-resources: true\n",
    "    highlight-style: github\n",
    "---"
   ]
  },
  {
   "cell_type": "markdown",
   "metadata": {},
   "source": [
    "This notebook demonstrates how to process Sentinel-2 satellite imagery to calculate the Normalized Burn Ratio (NBR) and the delta Normalized Burn Ratio (dNBR) using the Google Earth Engine (GEE) Python API. \n",
    "\n",
    "- The **Normalized Burn Ratio (NBR)** is a remote sensing index used to identify areas affected by fire. It is computed using the near-infrared (NIR) and shortwave-infrared (SWIR) bands, which are sensitive to vegetation and burned areas.\n",
    "\n",
    "- The **delta Normalized Burn Ratio (dNBR)** is the difference between pre-fire and post-fire NBR values, providing an effective metric for assessing burn severity.\n",
    "\n",
    "\n",
    "## Workflow\n",
    "1. Define the region of interest using a GeoJSON polygon.\n",
    "2. Filter Sentinel-2 imagery by date and cloud cover.\n",
    "3. Compute the NBR and dNBR indices.\n",
    "4. Visualize the results with `geemap`\n",
    "\n",
    "## Prerequisites\n",
    "\n",
    "To run this notebook, you will need to have a Google Earth Engine account ([Sign up here](https://earthengine.google.com/)).\n",
    "\n",
    "You will also need to ensure you have the necessary tools and libraries installed in a clean virtual environment. Follow the steps below to create and set up a virtual environment:  \n",
    "\n",
    "### Install the dependencies\n",
    "\n",
    "#### Using `venv` (Python Standard Library) \n",
    "1. **Create a virtual environment**:  \n",
    "Ensure the desired Python version (e.g., Python 3.12) is installed on your system. Then run:\n",
    "\n",
    "```bash  \n",
    "   python3 -m venv nbr-env \n",
    "```\n",
    "This creates a directory named nbr-env that contains the virtual environment.\n",
    "\n",
    "1. **Activate the virtual environment**\n",
    "\n",
    "- On macOS/Linux:\n",
    "```bash\n",
    "\n",
    "source nbr-env/bin/activate\n",
    "```\n",
    "- On Windows (Command Prompt):\n",
    "```bash\n",
    "nbr-env\\Scripts\\activate\n",
    "```\n",
    "\n",
    "3. **Install dependencies from requirements.txt**\n",
    "```bash\n",
    "pip install -r requirements.txt\n",
    "```\n",
    "\n",
    "####  Using conda (Anaconda/Miniconda)\n",
    "1. Create a new Conda environment:\n",
    "\n",
    "```bash\n",
    "conda create --name nbr-env python=3.12\n",
    "```\n",
    "2. Activate the environment:\n",
    "\n",
    "```bash\n",
    "conda activate nbr-env\n",
    "```\n",
    "\n",
    "3. Use the following command to install dependencies:\n",
    "\n",
    "```bash\n",
    "pip install -r requirements.txt\n",
    "```\n"
   ]
  },
  {
   "cell_type": "markdown",
   "metadata": {
    "vscode": {
     "languageId": "bat"
    }
   },
   "source": [
    "Now you are all set up, let's start ! "
   ]
  },
  {
   "cell_type": "markdown",
   "metadata": {
    "vscode": {
     "languageId": "raw"
    }
   },
   "source": [
    "## Imports "
   ]
  },
  {
   "cell_type": "code",
   "execution_count": 1,
   "metadata": {},
   "outputs": [],
   "source": [
    "import ee\n",
    "import json\n",
    "import geemap"
   ]
  },
  {
   "cell_type": "code",
   "execution_count": 2,
   "metadata": {},
   "outputs": [
    {
     "data": {
      "text/html": [
       "\n",
       "            <style>\n",
       "                .geemap-dark {\n",
       "                    --jp-widgets-color: white;\n",
       "                    --jp-widgets-label-color: white;\n",
       "                    --jp-ui-font-color1: white;\n",
       "                    --jp-layout-color2: #454545;\n",
       "                    background-color: #383838;\n",
       "                }\n",
       "\n",
       "                .geemap-dark .jupyter-button {\n",
       "                    --jp-layout-color3: #383838;\n",
       "                }\n",
       "\n",
       "                .geemap-colab {\n",
       "                    background-color: var(--colab-primary-surface-color, white);\n",
       "                }\n",
       "\n",
       "                .geemap-colab .jupyter-button {\n",
       "                    --jp-layout-color3: var(--colab-primary-surface-color, white);\n",
       "                }\n",
       "            </style>\n",
       "            "
      ],
      "text/plain": [
       "<IPython.core.display.HTML object>"
      ]
     },
     "metadata": {},
     "output_type": "display_data"
    }
   ],
   "source": [
    "# Authenticate\n",
    "ee.Authenticate()\n",
    "# Initialize the Earth Engine API\n",
    "ee.Initialize()"
   ]
  },
  {
   "cell_type": "markdown",
   "metadata": {},
   "source": [
    "## Define the Region of Interest"
   ]
  },
  {
   "cell_type": "code",
   "execution_count": 3,
   "metadata": {},
   "outputs": [
    {
     "data": {
      "text/html": [
       "\n",
       "            <style>\n",
       "                .geemap-dark {\n",
       "                    --jp-widgets-color: white;\n",
       "                    --jp-widgets-label-color: white;\n",
       "                    --jp-ui-font-color1: white;\n",
       "                    --jp-layout-color2: #454545;\n",
       "                    background-color: #383838;\n",
       "                }\n",
       "\n",
       "                .geemap-dark .jupyter-button {\n",
       "                    --jp-layout-color3: #383838;\n",
       "                }\n",
       "\n",
       "                .geemap-colab {\n",
       "                    background-color: var(--colab-primary-surface-color, white);\n",
       "                }\n",
       "\n",
       "                .geemap-colab .jupyter-button {\n",
       "                    --jp-layout-color3: var(--colab-primary-surface-color, white);\n",
       "                }\n",
       "            </style>\n",
       "            "
      ],
      "text/plain": [
       "<IPython.core.display.HTML object>"
      ]
     },
     "metadata": {},
     "output_type": "display_data"
    },
    {
     "name": "stdout",
     "output_type": "stream",
     "text": [
      "ROI set successfully: {'type': 'Polygon', 'coordinates': [[[-118.6102185066212, 33.64551991176346], [-117.82452679002279, 33.64551991176346], [-117.82452679002279, 34.288898731364455], [-118.6102185066212, 34.288898731364455], [-118.6102185066212, 33.64551991176346]]]}\n"
     ]
    }
   ],
   "source": [
    "# Load GeoJSON and and convert to Earth Engine geometry\n",
    "def geojson_to_ee(file_path):\n",
    "    with open(file_path, \"r\") as f:\n",
    "        geojson_data = json.load(f)\n",
    "    roi = ee.Geometry.Polygon(geojson_data[\"features\"][0][\"geometry\"][\"coordinates\"])\n",
    "    return roi\n",
    "\n",
    "\n",
    "# Change the Geojson to your own need:\n",
    "geojson_path = \"./Los_Angeles.geojson\"\n",
    "roi = geojson_to_ee(geojson_path)\n",
    "print(\"ROI set successfully:\", roi.getInfo())"
   ]
  },
  {
   "cell_type": "markdown",
   "metadata": {},
   "source": [
    "## Data processing\n",
    "\n",
    "As of now the NBR and dNBR is computed using only Sentinel-2 imagery. Implementation with Landsat 8 will follow. "
   ]
  },
  {
   "cell_type": "code",
   "execution_count": 4,
   "metadata": {},
   "outputs": [
    {
     "data": {
      "text/html": [
       "\n",
       "            <style>\n",
       "                .geemap-dark {\n",
       "                    --jp-widgets-color: white;\n",
       "                    --jp-widgets-label-color: white;\n",
       "                    --jp-ui-font-color1: white;\n",
       "                    --jp-layout-color2: #454545;\n",
       "                    background-color: #383838;\n",
       "                }\n",
       "\n",
       "                .geemap-dark .jupyter-button {\n",
       "                    --jp-layout-color3: #383838;\n",
       "                }\n",
       "\n",
       "                .geemap-colab {\n",
       "                    background-color: var(--colab-primary-surface-color, white);\n",
       "                }\n",
       "\n",
       "                .geemap-colab .jupyter-button {\n",
       "                    --jp-layout-color3: var(--colab-primary-surface-color, white);\n",
       "                }\n",
       "            </style>\n",
       "            "
      ],
      "text/plain": [
       "<IPython.core.display.HTML object>"
      ]
     },
     "metadata": {},
     "output_type": "display_data"
    }
   ],
   "source": [
    "# Sentinel-2 Surface Reflectance\n",
    "collection = \"COPERNICUS/S2_SR_HARMONIZED\"\n",
    "\n",
    "\n",
    "def mask_s2_clouds(image):\n",
    "    \"\"\"Masks clouds in a Sentinel-2 image using the QA band.\n",
    "\n",
    "    Args:\n",
    "        image (ee.Image): A Sentinel-2 image.\n",
    "\n",
    "    Returns:\n",
    "        ee.Image: A cloud-masked Sentinel-2 image.\n",
    "    \"\"\"\n",
    "    qa = image.select(\"QA60\")\n",
    "\n",
    "    # Bits 10 and 11 are clouds and cirrus, respectively.\n",
    "    cloud_bit_mask = 1 << 10\n",
    "    cirrus_bit_mask = 1 << 11\n",
    "\n",
    "    # Both flags should be set to zero, indicating clear conditions.\n",
    "    mask = qa.bitwiseAnd(cloud_bit_mask).eq(0).And(qa.bitwiseAnd(cirrus_bit_mask).eq(0))\n",
    "\n",
    "    return image.updateMask(mask).divide(10000)\n",
    "\n",
    "\n",
    "# Define a function to calculate NBR\n",
    "def calculate_nbr(image):\n",
    "    nbr = image.normalizedDifference([\"B8\", \"B12\"]).rename(\"NBR\")\n",
    "    return image.addBands(nbr)\n",
    "\n",
    "\n",
    "# Retrieve Sentinel-2 images for a specific time range and region\n",
    "def get_sentinel2_nbr(roi, start_date, end_date):\n",
    "    sentinel2 = (\n",
    "        ee.ImageCollection(collection)\n",
    "        .filterBounds(roi)\n",
    "        .filterDate(\n",
    "            start_date, end_date\n",
    "        )  # Use the full date range for pre- and post-event\n",
    "        .map(mask_s2_clouds)\n",
    "        .map(calculate_nbr)\n",
    "    )\n",
    "    # Check if the collection has valid images\n",
    "    count = sentinel2.size().getInfo()\n",
    "    if count == 0:\n",
    "        raise ValueError(\n",
    "            f\"No images found for the date range {start_date} to {end_date}\"\n",
    "        )\n",
    "\n",
    "    return sentinel2.mean()"
   ]
  },
  {
   "cell_type": "code",
   "execution_count": 5,
   "metadata": {},
   "outputs": [
    {
     "data": {
      "text/html": [
       "\n",
       "            <style>\n",
       "                .geemap-dark {\n",
       "                    --jp-widgets-color: white;\n",
       "                    --jp-widgets-label-color: white;\n",
       "                    --jp-ui-font-color1: white;\n",
       "                    --jp-layout-color2: #454545;\n",
       "                    background-color: #383838;\n",
       "                }\n",
       "\n",
       "                .geemap-dark .jupyter-button {\n",
       "                    --jp-layout-color3: #383838;\n",
       "                }\n",
       "\n",
       "                .geemap-colab {\n",
       "                    background-color: var(--colab-primary-surface-color, white);\n",
       "                }\n",
       "\n",
       "                .geemap-colab .jupyter-button {\n",
       "                    --jp-layout-color3: var(--colab-primary-surface-color, white);\n",
       "                }\n",
       "            </style>\n",
       "            "
      ],
      "text/plain": [
       "<IPython.core.display.HTML object>"
      ]
     },
     "metadata": {},
     "output_type": "display_data"
    },
    {
     "name": "stdout",
     "output_type": "stream",
     "text": [
      "{'type': 'Image', 'bands': [{'id': 'B1', 'data_type': {'type': 'PixelType', 'precision': 'float', 'min': 0, 'max': 6.553500175476074}, 'crs': 'EPSG:4326', 'crs_transform': [1, 0, 0, 0, 1, 0]}, {'id': 'B2', 'data_type': {'type': 'PixelType', 'precision': 'float', 'min': 0, 'max': 6.553500175476074}, 'crs': 'EPSG:4326', 'crs_transform': [1, 0, 0, 0, 1, 0]}, {'id': 'B3', 'data_type': {'type': 'PixelType', 'precision': 'float', 'min': 0, 'max': 6.553500175476074}, 'crs': 'EPSG:4326', 'crs_transform': [1, 0, 0, 0, 1, 0]}, {'id': 'B4', 'data_type': {'type': 'PixelType', 'precision': 'float', 'min': 0, 'max': 6.553500175476074}, 'crs': 'EPSG:4326', 'crs_transform': [1, 0, 0, 0, 1, 0]}, {'id': 'B5', 'data_type': {'type': 'PixelType', 'precision': 'float', 'min': 0, 'max': 6.553500175476074}, 'crs': 'EPSG:4326', 'crs_transform': [1, 0, 0, 0, 1, 0]}, {'id': 'B6', 'data_type': {'type': 'PixelType', 'precision': 'float', 'min': 0, 'max': 6.553500175476074}, 'crs': 'EPSG:4326', 'crs_transform': [1, 0, 0, 0, 1, 0]}, {'id': 'B7', 'data_type': {'type': 'PixelType', 'precision': 'float', 'min': 0, 'max': 6.553500175476074}, 'crs': 'EPSG:4326', 'crs_transform': [1, 0, 0, 0, 1, 0]}, {'id': 'B8', 'data_type': {'type': 'PixelType', 'precision': 'float', 'min': 0, 'max': 6.553500175476074}, 'crs': 'EPSG:4326', 'crs_transform': [1, 0, 0, 0, 1, 0]}, {'id': 'B8A', 'data_type': {'type': 'PixelType', 'precision': 'float', 'min': 0, 'max': 6.553500175476074}, 'crs': 'EPSG:4326', 'crs_transform': [1, 0, 0, 0, 1, 0]}, {'id': 'B9', 'data_type': {'type': 'PixelType', 'precision': 'float', 'min': 0, 'max': 6.553500175476074}, 'crs': 'EPSG:4326', 'crs_transform': [1, 0, 0, 0, 1, 0]}, {'id': 'B11', 'data_type': {'type': 'PixelType', 'precision': 'float', 'min': 0, 'max': 6.553500175476074}, 'crs': 'EPSG:4326', 'crs_transform': [1, 0, 0, 0, 1, 0]}, {'id': 'B12', 'data_type': {'type': 'PixelType', 'precision': 'float', 'min': 0, 'max': 6.553500175476074}, 'crs': 'EPSG:4326', 'crs_transform': [1, 0, 0, 0, 1, 0]}, {'id': 'AOT', 'data_type': {'type': 'PixelType', 'precision': 'float', 'min': 0, 'max': 6.553500175476074}, 'crs': 'EPSG:4326', 'crs_transform': [1, 0, 0, 0, 1, 0]}, {'id': 'WVP', 'data_type': {'type': 'PixelType', 'precision': 'float', 'min': 0, 'max': 6.553500175476074}, 'crs': 'EPSG:4326', 'crs_transform': [1, 0, 0, 0, 1, 0]}, {'id': 'SCL', 'data_type': {'type': 'PixelType', 'precision': 'float', 'min': 0, 'max': 0.02550000138580799}, 'crs': 'EPSG:4326', 'crs_transform': [1, 0, 0, 0, 1, 0]}, {'id': 'TCI_R', 'data_type': {'type': 'PixelType', 'precision': 'float', 'min': 0, 'max': 0.02550000138580799}, 'crs': 'EPSG:4326', 'crs_transform': [1, 0, 0, 0, 1, 0]}, {'id': 'TCI_G', 'data_type': {'type': 'PixelType', 'precision': 'float', 'min': 0, 'max': 0.02550000138580799}, 'crs': 'EPSG:4326', 'crs_transform': [1, 0, 0, 0, 1, 0]}, {'id': 'TCI_B', 'data_type': {'type': 'PixelType', 'precision': 'float', 'min': 0, 'max': 0.02550000138580799}, 'crs': 'EPSG:4326', 'crs_transform': [1, 0, 0, 0, 1, 0]}, {'id': 'MSK_CLDPRB', 'data_type': {'type': 'PixelType', 'precision': 'float', 'min': 0, 'max': 0.02550000138580799}, 'crs': 'EPSG:4326', 'crs_transform': [1, 0, 0, 0, 1, 0]}, {'id': 'MSK_SNWPRB', 'data_type': {'type': 'PixelType', 'precision': 'float', 'min': 0, 'max': 0.02550000138580799}, 'crs': 'EPSG:4326', 'crs_transform': [1, 0, 0, 0, 1, 0]}, {'id': 'QA10', 'data_type': {'type': 'PixelType', 'precision': 'float', 'min': 0, 'max': 6.553500175476074}, 'crs': 'EPSG:4326', 'crs_transform': [1, 0, 0, 0, 1, 0]}, {'id': 'QA20', 'data_type': {'type': 'PixelType', 'precision': 'float', 'min': 0, 'max': 429496.75}, 'crs': 'EPSG:4326', 'crs_transform': [1, 0, 0, 0, 1, 0]}, {'id': 'QA60', 'data_type': {'type': 'PixelType', 'precision': 'float', 'min': 0, 'max': 6.553500175476074}, 'crs': 'EPSG:4326', 'crs_transform': [1, 0, 0, 0, 1, 0]}, {'id': 'MSK_CLASSI_OPAQUE', 'data_type': {'type': 'PixelType', 'precision': 'float', 'min': 0, 'max': 0.02550000138580799}, 'crs': 'EPSG:4326', 'crs_transform': [1, 0, 0, 0, 1, 0]}, {'id': 'MSK_CLASSI_CIRRUS', 'data_type': {'type': 'PixelType', 'precision': 'float', 'min': 0, 'max': 0.02550000138580799}, 'crs': 'EPSG:4326', 'crs_transform': [1, 0, 0, 0, 1, 0]}, {'id': 'MSK_CLASSI_SNOW_ICE', 'data_type': {'type': 'PixelType', 'precision': 'float', 'min': 0, 'max': 0.02550000138580799}, 'crs': 'EPSG:4326', 'crs_transform': [1, 0, 0, 0, 1, 0]}, {'id': 'NBR', 'data_type': {'type': 'PixelType', 'precision': 'float', 'min': -1, 'max': 1}, 'crs': 'EPSG:4326', 'crs_transform': [1, 0, 0, 0, 1, 0]}]}\n",
      "{'type': 'Image', 'bands': [{'id': 'B1', 'data_type': {'type': 'PixelType', 'precision': 'float', 'min': 0, 'max': 6.553500175476074}, 'crs': 'EPSG:4326', 'crs_transform': [1, 0, 0, 0, 1, 0]}, {'id': 'B2', 'data_type': {'type': 'PixelType', 'precision': 'float', 'min': 0, 'max': 6.553500175476074}, 'crs': 'EPSG:4326', 'crs_transform': [1, 0, 0, 0, 1, 0]}, {'id': 'B3', 'data_type': {'type': 'PixelType', 'precision': 'float', 'min': 0, 'max': 6.553500175476074}, 'crs': 'EPSG:4326', 'crs_transform': [1, 0, 0, 0, 1, 0]}, {'id': 'B4', 'data_type': {'type': 'PixelType', 'precision': 'float', 'min': 0, 'max': 6.553500175476074}, 'crs': 'EPSG:4326', 'crs_transform': [1, 0, 0, 0, 1, 0]}, {'id': 'B5', 'data_type': {'type': 'PixelType', 'precision': 'float', 'min': 0, 'max': 6.553500175476074}, 'crs': 'EPSG:4326', 'crs_transform': [1, 0, 0, 0, 1, 0]}, {'id': 'B6', 'data_type': {'type': 'PixelType', 'precision': 'float', 'min': 0, 'max': 6.553500175476074}, 'crs': 'EPSG:4326', 'crs_transform': [1, 0, 0, 0, 1, 0]}, {'id': 'B7', 'data_type': {'type': 'PixelType', 'precision': 'float', 'min': 0, 'max': 6.553500175476074}, 'crs': 'EPSG:4326', 'crs_transform': [1, 0, 0, 0, 1, 0]}, {'id': 'B8', 'data_type': {'type': 'PixelType', 'precision': 'float', 'min': 0, 'max': 6.553500175476074}, 'crs': 'EPSG:4326', 'crs_transform': [1, 0, 0, 0, 1, 0]}, {'id': 'B8A', 'data_type': {'type': 'PixelType', 'precision': 'float', 'min': 0, 'max': 6.553500175476074}, 'crs': 'EPSG:4326', 'crs_transform': [1, 0, 0, 0, 1, 0]}, {'id': 'B9', 'data_type': {'type': 'PixelType', 'precision': 'float', 'min': 0, 'max': 6.553500175476074}, 'crs': 'EPSG:4326', 'crs_transform': [1, 0, 0, 0, 1, 0]}, {'id': 'B11', 'data_type': {'type': 'PixelType', 'precision': 'float', 'min': 0, 'max': 6.553500175476074}, 'crs': 'EPSG:4326', 'crs_transform': [1, 0, 0, 0, 1, 0]}, {'id': 'B12', 'data_type': {'type': 'PixelType', 'precision': 'float', 'min': 0, 'max': 6.553500175476074}, 'crs': 'EPSG:4326', 'crs_transform': [1, 0, 0, 0, 1, 0]}, {'id': 'AOT', 'data_type': {'type': 'PixelType', 'precision': 'float', 'min': 0, 'max': 6.553500175476074}, 'crs': 'EPSG:4326', 'crs_transform': [1, 0, 0, 0, 1, 0]}, {'id': 'WVP', 'data_type': {'type': 'PixelType', 'precision': 'float', 'min': 0, 'max': 6.553500175476074}, 'crs': 'EPSG:4326', 'crs_transform': [1, 0, 0, 0, 1, 0]}, {'id': 'SCL', 'data_type': {'type': 'PixelType', 'precision': 'float', 'min': 0, 'max': 0.02550000138580799}, 'crs': 'EPSG:4326', 'crs_transform': [1, 0, 0, 0, 1, 0]}, {'id': 'TCI_R', 'data_type': {'type': 'PixelType', 'precision': 'float', 'min': 0, 'max': 0.02550000138580799}, 'crs': 'EPSG:4326', 'crs_transform': [1, 0, 0, 0, 1, 0]}, {'id': 'TCI_G', 'data_type': {'type': 'PixelType', 'precision': 'float', 'min': 0, 'max': 0.02550000138580799}, 'crs': 'EPSG:4326', 'crs_transform': [1, 0, 0, 0, 1, 0]}, {'id': 'TCI_B', 'data_type': {'type': 'PixelType', 'precision': 'float', 'min': 0, 'max': 0.02550000138580799}, 'crs': 'EPSG:4326', 'crs_transform': [1, 0, 0, 0, 1, 0]}, {'id': 'MSK_CLDPRB', 'data_type': {'type': 'PixelType', 'precision': 'float', 'min': 0, 'max': 0.02550000138580799}, 'crs': 'EPSG:4326', 'crs_transform': [1, 0, 0, 0, 1, 0]}, {'id': 'MSK_SNWPRB', 'data_type': {'type': 'PixelType', 'precision': 'float', 'min': 0, 'max': 0.02550000138580799}, 'crs': 'EPSG:4326', 'crs_transform': [1, 0, 0, 0, 1, 0]}, {'id': 'QA10', 'data_type': {'type': 'PixelType', 'precision': 'float', 'min': 0, 'max': 6.553500175476074}, 'crs': 'EPSG:4326', 'crs_transform': [1, 0, 0, 0, 1, 0]}, {'id': 'QA20', 'data_type': {'type': 'PixelType', 'precision': 'float', 'min': 0, 'max': 429496.75}, 'crs': 'EPSG:4326', 'crs_transform': [1, 0, 0, 0, 1, 0]}, {'id': 'QA60', 'data_type': {'type': 'PixelType', 'precision': 'float', 'min': 0, 'max': 6.553500175476074}, 'crs': 'EPSG:4326', 'crs_transform': [1, 0, 0, 0, 1, 0]}, {'id': 'MSK_CLASSI_OPAQUE', 'data_type': {'type': 'PixelType', 'precision': 'float', 'min': 0, 'max': 0.02550000138580799}, 'crs': 'EPSG:4326', 'crs_transform': [1, 0, 0, 0, 1, 0]}, {'id': 'MSK_CLASSI_CIRRUS', 'data_type': {'type': 'PixelType', 'precision': 'float', 'min': 0, 'max': 0.02550000138580799}, 'crs': 'EPSG:4326', 'crs_transform': [1, 0, 0, 0, 1, 0]}, {'id': 'MSK_CLASSI_SNOW_ICE', 'data_type': {'type': 'PixelType', 'precision': 'float', 'min': 0, 'max': 0.02550000138580799}, 'crs': 'EPSG:4326', 'crs_transform': [1, 0, 0, 0, 1, 0]}, {'id': 'NBR', 'data_type': {'type': 'PixelType', 'precision': 'float', 'min': -1, 'max': 1}, 'crs': 'EPSG:4326', 'crs_transform': [1, 0, 0, 0, 1, 0]}]}\n"
     ]
    }
   ],
   "source": [
    "# Define the pre-event and post-event dates\n",
    "pre_fire_start_date = \"2024-12-01\"\n",
    "pre_fire_end_date = \"2025-01-01\"\n",
    "post_fire_start_date = \"2025-01-10\"\n",
    "post_fire_end_date = \"2025-01-20\"\n",
    "\n",
    "pre_event_image = get_sentinel2_nbr(roi, pre_fire_start_date, pre_fire_end_date)\n",
    "print(pre_event_image.getInfo())\n",
    "\n",
    "post_event_image = get_sentinel2_nbr(roi, post_fire_start_date, post_fire_end_date)\n",
    "print(post_event_image.getInfo())"
   ]
  },
  {
   "cell_type": "code",
   "execution_count": 6,
   "metadata": {},
   "outputs": [
    {
     "data": {
      "text/html": [
       "\n",
       "            <style>\n",
       "                .geemap-dark {\n",
       "                    --jp-widgets-color: white;\n",
       "                    --jp-widgets-label-color: white;\n",
       "                    --jp-ui-font-color1: white;\n",
       "                    --jp-layout-color2: #454545;\n",
       "                    background-color: #383838;\n",
       "                }\n",
       "\n",
       "                .geemap-dark .jupyter-button {\n",
       "                    --jp-layout-color3: #383838;\n",
       "                }\n",
       "\n",
       "                .geemap-colab {\n",
       "                    background-color: var(--colab-primary-surface-color, white);\n",
       "                }\n",
       "\n",
       "                .geemap-colab .jupyter-button {\n",
       "                    --jp-layout-color3: var(--colab-primary-surface-color, white);\n",
       "                }\n",
       "            </style>\n",
       "            "
      ],
      "text/plain": [
       "<IPython.core.display.HTML object>"
      ]
     },
     "metadata": {},
     "output_type": "display_data"
    }
   ],
   "source": [
    "# Calculate dNBR for the given dates and ROI\n",
    "\n",
    "# Compute dNBR\n",
    "dnbr = (\n",
    "    pre_event_image.select(\"NBR\")\n",
    "    .subtract(post_event_image.select(\"NBR\"))\n",
    "    .multiply(1000)\n",
    "    .rename(\"dNBR\")\n",
    ")"
   ]
  },
  {
   "cell_type": "code",
   "execution_count": 7,
   "metadata": {},
   "outputs": [
    {
     "data": {
      "text/html": [
       "\n",
       "            <style>\n",
       "                .geemap-dark {\n",
       "                    --jp-widgets-color: white;\n",
       "                    --jp-widgets-label-color: white;\n",
       "                    --jp-ui-font-color1: white;\n",
       "                    --jp-layout-color2: #454545;\n",
       "                    background-color: #383838;\n",
       "                }\n",
       "\n",
       "                .geemap-dark .jupyter-button {\n",
       "                    --jp-layout-color3: #383838;\n",
       "                }\n",
       "\n",
       "                .geemap-colab {\n",
       "                    background-color: var(--colab-primary-surface-color, white);\n",
       "                }\n",
       "\n",
       "                .geemap-colab .jupyter-button {\n",
       "                    --jp-layout-color3: var(--colab-primary-surface-color, white);\n",
       "                }\n",
       "            </style>\n",
       "            "
      ],
      "text/plain": [
       "<IPython.core.display.HTML object>"
      ]
     },
     "metadata": {},
     "output_type": "display_data"
    },
    {
     "name": "stdout",
     "output_type": "stream",
     "text": [
      "{'type': 'Image', 'bands': [{'id': 'dNBR', 'data_type': {'type': 'PixelType', 'precision': 'float', 'min': -2000, 'max': 2000}, 'crs': 'EPSG:4326', 'crs_transform': [1, 0, 0, 0, 1, 0]}]}\n"
     ]
    }
   ],
   "source": [
    "# Print the dNBR image details\n",
    "print(dnbr.getInfo())"
   ]
  },
  {
   "cell_type": "markdown",
   "metadata": {},
   "source": [
    "## Mapping the results"
   ]
  },
  {
   "cell_type": "code",
   "execution_count": 10,
   "metadata": {},
   "outputs": [
    {
     "data": {
      "text/html": [
       "\n",
       "            <style>\n",
       "                .geemap-dark {\n",
       "                    --jp-widgets-color: white;\n",
       "                    --jp-widgets-label-color: white;\n",
       "                    --jp-ui-font-color1: white;\n",
       "                    --jp-layout-color2: #454545;\n",
       "                    background-color: #383838;\n",
       "                }\n",
       "\n",
       "                .geemap-dark .jupyter-button {\n",
       "                    --jp-layout-color3: #383838;\n",
       "                }\n",
       "\n",
       "                .geemap-colab {\n",
       "                    background-color: var(--colab-primary-surface-color, white);\n",
       "                }\n",
       "\n",
       "                .geemap-colab .jupyter-button {\n",
       "                    --jp-layout-color3: var(--colab-primary-surface-color, white);\n",
       "                }\n",
       "            </style>\n",
       "            "
      ],
      "text/plain": [
       "<IPython.core.display.HTML object>"
      ]
     },
     "metadata": {},
     "output_type": "display_data"
    },
    {
     "data": {
      "application/vnd.jupyter.widget-view+json": {
       "model_id": "436d239615b04db79eee13f6eb6cacb0",
       "version_major": 2,
       "version_minor": 0
      },
      "text/plain": [
       "Map(center=[33.96742776505625, -118.21737264832217], controls=(WidgetControl(options=['position', 'transparent…"
      ]
     },
     "execution_count": 10,
     "metadata": {},
     "output_type": "execute_result"
    }
   ],
   "source": [
    "Map = geemap.Map()\n",
    "Map.centerObject(roi, 10)\n",
    "\n",
    "boundary_style = {\n",
    "    \"color\": \"ffffff\",  # White color\n",
    "    \"strokeWidth\": 5,  # Stroke width of 5\n",
    "}\n",
    "Map.addLayer(roi, boundary_style, \"Study Area\")\n",
    "\n",
    "# Define visualization parameters for NBR (display range, color palette)\n",
    "nbr_vis = {\"min\": -1, \"max\": 1, \"palette\": [\"blue\", \"white\", \"green\"]}\n",
    "\n",
    "# Add pre-event and post-event NBR images to the map\n",
    "Map.addLayer(pre_event_image.select(\"NBR\"), nbr_vis, \"Pre-Fire NBR\")\n",
    "Map.addLayer(post_event_image.select(\"NBR\"), nbr_vis, \"Post-Fire NBR\")\n",
    "\n",
    "# Define the color palette for the dNBR classification based on new categories\n",
    "color_map = [\n",
    "    \"#7a8737\",  # Enhanced Regrowth (> -0.1)\n",
    "    \"#acbe4d\",  # Unburned (-0.1 to +0.1)\n",
    "    \"#0ae042\",  # Low Severity (+0.1 to +0.27)\n",
    "    \"#fff70b\",  # Moderate Severity Low  (+0.27 to +0.44)\n",
    "    \"#ffaf38\",  # Moderate Severity High (+0.44 to +0.66)\n",
    "    \"#ff641b\",  # High Severity (> +0.66) - Red\n",
    "]\n",
    "\n",
    "# Define the thresholds for the burn severity classes (scaled by 1000)\n",
    "thresholds = [-100, 100, 270, 440, 660]  # Multiplying by 1000\n",
    "\n",
    "# Classify the dNBR image based on the thresholds\n",
    "classified = (\n",
    "    dnbr.lt(thresholds[0])\n",
    "    .add(dnbr.gte(thresholds[0]).And(dnbr.lt(thresholds[1])).multiply(2))\n",
    "    .add(dnbr.gte(thresholds[1]).And(dnbr.lt(thresholds[2])).multiply(3))\n",
    "    .add(dnbr.gte(thresholds[2]).And(dnbr.lt(thresholds[3])).multiply(4))\n",
    "    .add(dnbr.gte(thresholds[3]).And(dnbr.lt(thresholds[4])).multiply(5))\n",
    "    .add(dnbr.gte(thresholds[4]).multiply(6))\n",
    "    .toInt()\n",
    ")\n",
    "# Define the legend dictionary\n",
    "legend_dict = {\n",
    "    \"Enhanced Regrowth\": \"#7a8737\",\n",
    "    \"Unburned\": \"#acbe4d\",\n",
    "    \"Low Severity\": \"#0ae042\",\n",
    "    \"Moderate-low Severity\": \"#fff70b\",\n",
    "    \"Moderate-high Severity\": \"#ffaf38\",\n",
    "    \"High Severity\": \"#ff641b\",\n",
    "}\n",
    "\n",
    "# Define visualization parameters for the classified image\n",
    "classified_vis = {\n",
    "    \"min\": 0,\n",
    "    \"max\": 5,  # Total number of classes\n",
    "    \"palette\": list(legend_dict.values()),\n",
    "}\n",
    "\n",
    "# Add the classified dNBR image to the map (without the original dNBR)\n",
    "Map.addLayer(classified, classified_vis, \"dNBR Classified\")\n",
    "\n",
    "\n",
    "# Add the legend to the map (this is the only legend)\n",
    "Map.add_legend(\n",
    "    title=\"dNBR Classes\",\n",
    "    keys=list(legend_dict.keys()),\n",
    "    colors=list(legend_dict.values()),\n",
    ")\n",
    "\n",
    "# Show the map\n",
    "Map\n"
   ]
  },
  {
   "cell_type": "code",
   "execution_count": null,
   "metadata": {},
   "outputs": [],
   "source": []
  }
 ],
 "metadata": {
  "kernelspec": {
   "display_name": "nbr-env",
   "language": "python",
   "name": "python3"
  },
  "language_info": {
   "codemirror_mode": {
    "name": "ipython",
    "version": 3
   },
   "file_extension": ".py",
   "mimetype": "text/x-python",
   "name": "python",
   "nbconvert_exporter": "python",
   "pygments_lexer": "ipython3",
   "version": "3.12.8"
  }
 },
 "nbformat": 4,
 "nbformat_minor": 2
}
